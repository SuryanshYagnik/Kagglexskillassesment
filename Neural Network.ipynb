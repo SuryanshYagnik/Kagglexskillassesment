{
  "nbformat": 4,
  "nbformat_minor": 0,
  "metadata": {
    "colab": {
      "provenance": []
    },
    "kernelspec": {
      "name": "python3",
      "display_name": "Python 3"
    },
    "language_info": {
      "name": "python"
    }
  },
  "cells": [
    {
      "cell_type": "code",
      "execution_count": 22,
      "metadata": {
        "id": "xRUGM1PriIQf"
      },
      "outputs": [],
      "source": [
        "import pandas as pd\n",
        "import numpy as np\n",
        "import re\n",
        "import tensorflow as tf\n",
        "from tensorflow import keras\n",
        "from sklearn.preprocessing import StandardScaler, OneHotEncoder\n",
        "from sklearn.compose import ColumnTransformer\n",
        "from sklearn.pipeline import Pipeline\n",
        "from sklearn.impute import SimpleImputer\n"
      ]
    },
    {
      "cell_type": "code",
      "source": [
        "# Load datasets\n",
        "train_data = pd.read_csv('/content/train.csv')\n",
        "test_data = pd.read_csv('/content/test.csv')\n"
      ],
      "metadata": {
        "id": "sRKnZYS-Yqlg"
      },
      "execution_count": 23,
      "outputs": []
    },
    {
      "cell_type": "code",
      "source": [
        "# Add a time-related feature, 'age' of the vehicle\n",
        "current_year = 2024  # Assuming the current year is 2024\n",
        "train_data['age'] = current_year - train_data['model_year']\n",
        "test_data['age'] = current_year - test_data['model_year']"
      ],
      "metadata": {
        "id": "rh1sycW-xJ0i"
      },
      "execution_count": 24,
      "outputs": []
    },
    {
      "cell_type": "code",
      "source": [
        "# Features and target variable\n",
        "X_train = train_data.drop(columns=['price', 'id'])\n",
        "y_train = train_data['price']\n",
        "X_test = test_data.drop(columns=['id'])"
      ],
      "metadata": {
        "id": "PVdF7mr6ZX4j"
      },
      "execution_count": 25,
      "outputs": []
    },
    {
      "cell_type": "code",
      "source": [
        "# Function to extract numeric horsepower\n",
        "def extract_hp(engine_str):\n",
        "    match = re.search(r'(\\d+\\.\\d+|\\d+)HP', engine_str)\n",
        "    if match:\n",
        "        return float(match.group(1))\n",
        "    else:\n",
        "        return np.nan\n",
        "\n",
        "# Apply function to extract horsepower\n",
        "if 'engine' in X_train.columns:\n",
        "    X_train['engine_hp'] = X_train['engine'].apply(extract_hp)\n",
        "if 'engine' in X_test.columns:\n",
        "    X_test['engine_hp'] = X_test['engine'].apply(extract_hp)"
      ],
      "metadata": {
        "id": "0ZTA7o99aMN-"
      },
      "execution_count": 26,
      "outputs": []
    },
    {
      "cell_type": "code",
      "source": [
        "# Drop the original 'engine' feature\n",
        "X_train.drop(columns=['engine'], inplace=True, errors='ignore')\n",
        "X_test.drop(columns=['engine'], inplace=True, errors='ignore')\n",
        "\n",
        "# Drop rows with NaN values in 'engine_hp' (if any)\n",
        "X_train = X_train.dropna(subset=['engine_hp'])\n",
        "y_train = y_train.loc[X_train.index]"
      ],
      "metadata": {
        "id": "9hDdfTWjaQF8"
      },
      "execution_count": 27,
      "outputs": []
    },
    {
      "cell_type": "code",
      "source": [
        "# Define numerical and categorical features\n",
        "numeric_features = ['model_year', 'milage', 'engine_hp', 'age']\n",
        "categorical_features = ['brand', 'model', 'fuel_type', 'transmission', 'ext_col', 'int_col', 'accident', 'clean_title']\n",
        "\n",
        "# Create transformers for numeric and categorical data\n",
        "numeric_transformer = Pipeline(steps=[\n",
        "    ('imputer', SimpleImputer(strategy='mean')),\n",
        "    ('scaler', StandardScaler())\n",
        "])\n",
        "\n",
        "categorical_transformer = Pipeline(steps=[\n",
        "    ('imputer', SimpleImputer(strategy='most_frequent')),\n",
        "    ('onehot', OneHotEncoder(handle_unknown='ignore'))\n",
        "])\n",
        "\n",
        "# Combine transformers into a single preprocessor\n",
        "preprocessor = ColumnTransformer(\n",
        "    transformers=[\n",
        "        ('num', numeric_transformer, numeric_features),\n",
        "        ('cat', categorical_transformer, categorical_features)\n",
        "    ])\n",
        "\n",
        "# Preprocess training and testing data\n",
        "X_train_processed = preprocessor.fit_transform(X_train).toarray()  # Convert to dense array\n",
        "X_test_processed = preprocessor.transform(X_test).toarray()        # Convert to dense array\n",
        "\n",
        "# Build the neural network model\n",
        "model = keras.Sequential([\n",
        "    keras.layers.Dense(128, activation='relu', input_shape=(X_train_processed.shape[1],)),\n",
        "    keras.layers.Dropout(0.2),\n",
        "    keras.layers.Dense(64, activation='relu'),\n",
        "    keras.layers.Dropout(0.2),\n",
        "    keras.layers.Dense(1)\n",
        "])\n",
        "\n",
        "# Compile the model\n",
        "model.compile(optimizer='adam', loss='mse', metrics=[tf.keras.metrics.RootMeanSquaredError()])\n",
        "\n",
        "# Train the model\n",
        "history = model.fit(X_train_processed, y_train, epochs=100, batch_size=32, validation_split=0.2, verbose=1)\n",
        "\n",
        "# Predict on the test set\n",
        "y_test_pred = model.predict(X_test_processed)"
      ],
      "metadata": {
        "colab": {
          "base_uri": "https://localhost:8080/"
        },
        "id": "XDMz2-G9rzYH",
        "outputId": "9544d982-80c3-40af-e661-d1b6f31c7cce"
      },
      "execution_count": 29,
      "outputs": [
        {
          "output_type": "stream",
          "name": "stdout",
          "text": [
            "Epoch 1/100\n",
            "1256/1256 [==============================] - 11s 8ms/step - loss: 4755321344.0000 - root_mean_squared_error: 68958.8359 - val_loss: 3612024064.0000 - val_root_mean_squared_error: 60100.1172\n",
            "Epoch 2/100\n",
            "1256/1256 [==============================] - 7s 6ms/step - loss: 4103209216.0000 - root_mean_squared_error: 64056.2969 - val_loss: 3564805632.0000 - val_root_mean_squared_error: 59705.9922\n",
            "Epoch 3/100\n",
            "1256/1256 [==============================] - 8s 7ms/step - loss: 4079421952.0000 - root_mean_squared_error: 63870.3516 - val_loss: 3542907392.0000 - val_root_mean_squared_error: 59522.3281\n",
            "Epoch 4/100\n",
            "1256/1256 [==============================] - 6s 5ms/step - loss: 4059545088.0000 - root_mean_squared_error: 63714.5586 - val_loss: 3525197568.0000 - val_root_mean_squared_error: 59373.3750\n",
            "Epoch 5/100\n",
            "1256/1256 [==============================] - 8s 6ms/step - loss: 4039770368.0000 - root_mean_squared_error: 63559.1875 - val_loss: 3515020032.0000 - val_root_mean_squared_error: 59287.6055\n",
            "Epoch 6/100\n",
            "1256/1256 [==============================] - 6s 5ms/step - loss: 4028414208.0000 - root_mean_squared_error: 63469.7891 - val_loss: 3503332608.0000 - val_root_mean_squared_error: 59188.9570\n",
            "Epoch 7/100\n",
            "1256/1256 [==============================] - 8s 6ms/step - loss: 4016894976.0000 - root_mean_squared_error: 63378.9805 - val_loss: 3496121600.0000 - val_root_mean_squared_error: 59128.0117\n",
            "Epoch 8/100\n",
            "1256/1256 [==============================] - 6s 5ms/step - loss: 4011808512.0000 - root_mean_squared_error: 63338.8398 - val_loss: 3490331136.0000 - val_root_mean_squared_error: 59079.0234\n",
            "Epoch 9/100\n",
            "1256/1256 [==============================] - 8s 6ms/step - loss: 4008512512.0000 - root_mean_squared_error: 63312.8164 - val_loss: 3486006272.0000 - val_root_mean_squared_error: 59042.4102\n",
            "Epoch 10/100\n",
            "1256/1256 [==============================] - 7s 5ms/step - loss: 3987974912.0000 - root_mean_squared_error: 63150.4141 - val_loss: 3481657088.0000 - val_root_mean_squared_error: 59005.5664\n",
            "Epoch 11/100\n",
            "1256/1256 [==============================] - 8s 6ms/step - loss: 3990169600.0000 - root_mean_squared_error: 63167.7891 - val_loss: 3478134272.0000 - val_root_mean_squared_error: 58975.7109\n",
            "Epoch 12/100\n",
            "1256/1256 [==============================] - 6s 5ms/step - loss: 3984563712.0000 - root_mean_squared_error: 63123.4023 - val_loss: 3476711680.0000 - val_root_mean_squared_error: 58963.6484\n",
            "Epoch 13/100\n",
            "1256/1256 [==============================] - 8s 6ms/step - loss: 3983802368.0000 - root_mean_squared_error: 63117.3711 - val_loss: 3472541440.0000 - val_root_mean_squared_error: 58928.2734\n",
            "Epoch 14/100\n",
            "1256/1256 [==============================] - 6s 5ms/step - loss: 3981927680.0000 - root_mean_squared_error: 63102.5156 - val_loss: 3472675584.0000 - val_root_mean_squared_error: 58929.4102\n",
            "Epoch 15/100\n",
            "1256/1256 [==============================] - 9s 7ms/step - loss: 3970713600.0000 - root_mean_squared_error: 63013.5977 - val_loss: 3468853248.0000 - val_root_mean_squared_error: 58896.9727\n",
            "Epoch 16/100\n",
            "1256/1256 [==============================] - 9s 7ms/step - loss: 3969817088.0000 - root_mean_squared_error: 63006.4844 - val_loss: 3467409152.0000 - val_root_mean_squared_error: 58884.7109\n",
            "Epoch 17/100\n",
            "1256/1256 [==============================] - 6s 5ms/step - loss: 3967916800.0000 - root_mean_squared_error: 62991.4023 - val_loss: 3465547008.0000 - val_root_mean_squared_error: 58868.8984\n",
            "Epoch 18/100\n",
            "1256/1256 [==============================] - 8s 6ms/step - loss: 3964066304.0000 - root_mean_squared_error: 62960.8320 - val_loss: 3470531584.0000 - val_root_mean_squared_error: 58911.2188\n",
            "Epoch 19/100\n",
            "1256/1256 [==============================] - 6s 5ms/step - loss: 3957177856.0000 - root_mean_squared_error: 62906.0977 - val_loss: 3462470912.0000 - val_root_mean_squared_error: 58842.7656\n",
            "Epoch 20/100\n",
            "1256/1256 [==============================] - 8s 6ms/step - loss: 3951621888.0000 - root_mean_squared_error: 62861.9258 - val_loss: 3464719872.0000 - val_root_mean_squared_error: 58861.8711\n",
            "Epoch 21/100\n",
            "1256/1256 [==============================] - 6s 5ms/step - loss: 3945105920.0000 - root_mean_squared_error: 62810.0781 - val_loss: 3461465600.0000 - val_root_mean_squared_error: 58834.2227\n",
            "Epoch 22/100\n",
            "1256/1256 [==============================] - 8s 6ms/step - loss: 3945199616.0000 - root_mean_squared_error: 62810.8242 - val_loss: 3461692160.0000 - val_root_mean_squared_error: 58836.1484\n",
            "Epoch 23/100\n",
            "1256/1256 [==============================] - 6s 5ms/step - loss: 3944718080.0000 - root_mean_squared_error: 62806.9922 - val_loss: 3460684032.0000 - val_root_mean_squared_error: 58827.5781\n",
            "Epoch 24/100\n",
            "1256/1256 [==============================] - 8s 6ms/step - loss: 3940605696.0000 - root_mean_squared_error: 62774.2422 - val_loss: 3460378624.0000 - val_root_mean_squared_error: 58824.9844\n",
            "Epoch 25/100\n",
            "1256/1256 [==============================] - 6s 5ms/step - loss: 3938285568.0000 - root_mean_squared_error: 62755.7617 - val_loss: 3460501248.0000 - val_root_mean_squared_error: 58826.0234\n",
            "Epoch 26/100\n",
            "1256/1256 [==============================] - 8s 6ms/step - loss: 3932443904.0000 - root_mean_squared_error: 62709.1992 - val_loss: 3458871808.0000 - val_root_mean_squared_error: 58812.1758\n",
            "Epoch 27/100\n",
            "1256/1256 [==============================] - 6s 5ms/step - loss: 3938136576.0000 - root_mean_squared_error: 62754.5742 - val_loss: 3459624192.0000 - val_root_mean_squared_error: 58818.5703\n",
            "Epoch 28/100\n",
            "1256/1256 [==============================] - 7s 6ms/step - loss: 3927530240.0000 - root_mean_squared_error: 62670.0117 - val_loss: 3458705152.0000 - val_root_mean_squared_error: 58810.7578\n",
            "Epoch 29/100\n",
            "1256/1256 [==============================] - 6s 5ms/step - loss: 3922806528.0000 - root_mean_squared_error: 62632.3125 - val_loss: 3458720512.0000 - val_root_mean_squared_error: 58810.8867\n",
            "Epoch 30/100\n",
            "1256/1256 [==============================] - 8s 6ms/step - loss: 3928448768.0000 - root_mean_squared_error: 62677.3398 - val_loss: 3458952448.0000 - val_root_mean_squared_error: 58812.8594\n",
            "Epoch 31/100\n",
            "1256/1256 [==============================] - 6s 5ms/step - loss: 3921230592.0000 - root_mean_squared_error: 62619.7305 - val_loss: 3457819392.0000 - val_root_mean_squared_error: 58803.2266\n",
            "Epoch 32/100\n",
            "1256/1256 [==============================] - 8s 6ms/step - loss: 3913325312.0000 - root_mean_squared_error: 62556.5781 - val_loss: 3457157632.0000 - val_root_mean_squared_error: 58797.5977\n",
            "Epoch 33/100\n",
            "1256/1256 [==============================] - 6s 5ms/step - loss: 3917114624.0000 - root_mean_squared_error: 62586.8555 - val_loss: 3457025792.0000 - val_root_mean_squared_error: 58796.4766\n",
            "Epoch 34/100\n",
            "1256/1256 [==============================] - 8s 6ms/step - loss: 3919944448.0000 - root_mean_squared_error: 62609.4609 - val_loss: 3459834624.0000 - val_root_mean_squared_error: 58820.3594\n",
            "Epoch 35/100\n",
            "1256/1256 [==============================] - 6s 5ms/step - loss: 3908236544.0000 - root_mean_squared_error: 62515.8906 - val_loss: 3458066176.0000 - val_root_mean_squared_error: 58805.3242\n",
            "Epoch 36/100\n",
            "1256/1256 [==============================] - 8s 6ms/step - loss: 3912381952.0000 - root_mean_squared_error: 62549.0352 - val_loss: 3459248896.0000 - val_root_mean_squared_error: 58815.3789\n",
            "Epoch 37/100\n",
            "1256/1256 [==============================] - 6s 5ms/step - loss: 3910500864.0000 - root_mean_squared_error: 62533.9961 - val_loss: 3458357760.0000 - val_root_mean_squared_error: 58807.8047\n",
            "Epoch 38/100\n",
            "1256/1256 [==============================] - 8s 6ms/step - loss: 3903889664.0000 - root_mean_squared_error: 62481.1133 - val_loss: 3459159296.0000 - val_root_mean_squared_error: 58814.6172\n",
            "Epoch 39/100\n",
            "1256/1256 [==============================] - 6s 5ms/step - loss: 3906170880.0000 - root_mean_squared_error: 62499.3672 - val_loss: 3459428608.0000 - val_root_mean_squared_error: 58816.9062\n",
            "Epoch 40/100\n",
            "1256/1256 [==============================] - 8s 6ms/step - loss: 3901710592.0000 - root_mean_squared_error: 62463.6758 - val_loss: 3459521280.0000 - val_root_mean_squared_error: 58817.6953\n",
            "Epoch 41/100\n",
            "1256/1256 [==============================] - 6s 5ms/step - loss: 3901307136.0000 - root_mean_squared_error: 62460.4453 - val_loss: 3460630272.0000 - val_root_mean_squared_error: 58827.1211\n",
            "Epoch 42/100\n",
            "1256/1256 [==============================] - 8s 6ms/step - loss: 3903568640.0000 - root_mean_squared_error: 62478.5469 - val_loss: 3459593728.0000 - val_root_mean_squared_error: 58818.3125\n",
            "Epoch 43/100\n",
            "1256/1256 [==============================] - 8s 6ms/step - loss: 3895879936.0000 - root_mean_squared_error: 62416.9844 - val_loss: 3460984064.0000 - val_root_mean_squared_error: 58830.1289\n",
            "Epoch 44/100\n",
            "1256/1256 [==============================] - 8s 6ms/step - loss: 3894875392.0000 - root_mean_squared_error: 62408.9375 - val_loss: 3460750848.0000 - val_root_mean_squared_error: 58828.1484\n",
            "Epoch 45/100\n",
            "1256/1256 [==============================] - 6s 5ms/step - loss: 3898142208.0000 - root_mean_squared_error: 62435.1055 - val_loss: 3460886272.0000 - val_root_mean_squared_error: 58829.2969\n",
            "Epoch 46/100\n",
            "1256/1256 [==============================] - 8s 6ms/step - loss: 3889277184.0000 - root_mean_squared_error: 62364.0703 - val_loss: 3464585216.0000 - val_root_mean_squared_error: 58860.7266\n",
            "Epoch 47/100\n",
            "1256/1256 [==============================] - 6s 5ms/step - loss: 3887610368.0000 - root_mean_squared_error: 62350.7031 - val_loss: 3465404672.0000 - val_root_mean_squared_error: 58867.6875\n",
            "Epoch 48/100\n",
            "1256/1256 [==============================] - 8s 6ms/step - loss: 3886525696.0000 - root_mean_squared_error: 62342.0078 - val_loss: 3464525312.0000 - val_root_mean_squared_error: 58860.2188\n",
            "Epoch 49/100\n",
            "1256/1256 [==============================] - 6s 5ms/step - loss: 3883397632.0000 - root_mean_squared_error: 62316.9141 - val_loss: 3463922688.0000 - val_root_mean_squared_error: 58855.0977\n",
            "Epoch 50/100\n",
            "1256/1256 [==============================] - 8s 6ms/step - loss: 3885549312.0000 - root_mean_squared_error: 62334.1758 - val_loss: 3466244864.0000 - val_root_mean_squared_error: 58874.8242\n",
            "Epoch 51/100\n",
            "1256/1256 [==============================] - 6s 5ms/step - loss: 3875407872.0000 - root_mean_squared_error: 62252.7734 - val_loss: 3466880512.0000 - val_root_mean_squared_error: 58880.2227\n",
            "Epoch 52/100\n",
            "1256/1256 [==============================] - 8s 6ms/step - loss: 3875699712.0000 - root_mean_squared_error: 62255.1172 - val_loss: 3468013312.0000 - val_root_mean_squared_error: 58889.8398\n",
            "Epoch 53/100\n",
            "1256/1256 [==============================] - 6s 5ms/step - loss: 3874061056.0000 - root_mean_squared_error: 62241.9570 - val_loss: 3468712704.0000 - val_root_mean_squared_error: 58895.7773\n",
            "Epoch 54/100\n",
            "1256/1256 [==============================] - 8s 6ms/step - loss: 3879908608.0000 - root_mean_squared_error: 62288.9141 - val_loss: 3468487168.0000 - val_root_mean_squared_error: 58893.8633\n",
            "Epoch 55/100\n",
            "1256/1256 [==============================] - 6s 5ms/step - loss: 3877211904.0000 - root_mean_squared_error: 62267.2617 - val_loss: 3468698624.0000 - val_root_mean_squared_error: 58895.6602\n",
            "Epoch 56/100\n",
            "1256/1256 [==============================] - 8s 6ms/step - loss: 3872578048.0000 - root_mean_squared_error: 62230.0430 - val_loss: 3469671680.0000 - val_root_mean_squared_error: 58903.9180\n",
            "Epoch 57/100\n",
            "1256/1256 [==============================] - 6s 5ms/step - loss: 3870365696.0000 - root_mean_squared_error: 62212.2617 - val_loss: 3470667776.0000 - val_root_mean_squared_error: 58912.3750\n",
            "Epoch 58/100\n",
            "1256/1256 [==============================] - 8s 6ms/step - loss: 3862635776.0000 - root_mean_squared_error: 62150.1055 - val_loss: 3472635648.0000 - val_root_mean_squared_error: 58929.0742\n",
            "Epoch 59/100\n",
            "1256/1256 [==============================] - 6s 5ms/step - loss: 3865971456.0000 - root_mean_squared_error: 62176.9375 - val_loss: 3474467328.0000 - val_root_mean_squared_error: 58944.6133\n",
            "Epoch 60/100\n",
            "1256/1256 [==============================] - 8s 6ms/step - loss: 3861082880.0000 - root_mean_squared_error: 62137.6133 - val_loss: 3473204480.0000 - val_root_mean_squared_error: 58933.8984\n",
            "Epoch 61/100\n",
            "1256/1256 [==============================] - 6s 5ms/step - loss: 3854896128.0000 - root_mean_squared_error: 62087.8086 - val_loss: 3474944768.0000 - val_root_mean_squared_error: 58948.6641\n",
            "Epoch 62/100\n",
            "1256/1256 [==============================] - 7s 6ms/step - loss: 3852592384.0000 - root_mean_squared_error: 62069.2539 - val_loss: 3476089344.0000 - val_root_mean_squared_error: 58958.3711\n",
            "Epoch 63/100\n",
            "1256/1256 [==============================] - 6s 5ms/step - loss: 3855915264.0000 - root_mean_squared_error: 62096.0156 - val_loss: 3477391872.0000 - val_root_mean_squared_error: 58969.4141\n",
            "Epoch 64/100\n",
            "1256/1256 [==============================] - 8s 6ms/step - loss: 3848454144.0000 - root_mean_squared_error: 62035.9102 - val_loss: 3481347584.0000 - val_root_mean_squared_error: 59002.9453\n",
            "Epoch 65/100\n",
            "1256/1256 [==============================] - 6s 5ms/step - loss: 3849026816.0000 - root_mean_squared_error: 62040.5273 - val_loss: 3479669504.0000 - val_root_mean_squared_error: 58988.7227\n",
            "Epoch 66/100\n",
            "1256/1256 [==============================] - 8s 6ms/step - loss: 3846244096.0000 - root_mean_squared_error: 62018.0938 - val_loss: 3480613120.0000 - val_root_mean_squared_error: 58996.7227\n",
            "Epoch 67/100\n",
            "1256/1256 [==============================] - 6s 5ms/step - loss: 3844314880.0000 - root_mean_squared_error: 62002.5391 - val_loss: 3483596032.0000 - val_root_mean_squared_error: 59021.9961\n",
            "Epoch 68/100\n",
            "1256/1256 [==============================] - 8s 6ms/step - loss: 3832734720.0000 - root_mean_squared_error: 61909.0859 - val_loss: 3483834368.0000 - val_root_mean_squared_error: 59024.0156\n",
            "Epoch 69/100\n",
            "1256/1256 [==============================] - 6s 5ms/step - loss: 3841222912.0000 - root_mean_squared_error: 61977.6016 - val_loss: 3483894528.0000 - val_root_mean_squared_error: 59024.5234\n",
            "Epoch 70/100\n",
            "1256/1256 [==============================] - 8s 6ms/step - loss: 3828169728.0000 - root_mean_squared_error: 61872.2031 - val_loss: 3484365056.0000 - val_root_mean_squared_error: 59028.5117\n",
            "Epoch 71/100\n",
            "1256/1256 [==============================] - 6s 5ms/step - loss: 3834963712.0000 - root_mean_squared_error: 61927.0820 - val_loss: 3485437952.0000 - val_root_mean_squared_error: 59037.5977\n",
            "Epoch 72/100\n",
            "1256/1256 [==============================] - 9s 7ms/step - loss: 3838925824.0000 - root_mean_squared_error: 61959.0664 - val_loss: 3490565632.0000 - val_root_mean_squared_error: 59081.0078\n",
            "Epoch 73/100\n",
            "1256/1256 [==============================] - 6s 5ms/step - loss: 3828910080.0000 - root_mean_squared_error: 61878.1875 - val_loss: 3491884288.0000 - val_root_mean_squared_error: 59092.1680\n",
            "Epoch 74/100\n",
            "1256/1256 [==============================] - 8s 6ms/step - loss: 3828443136.0000 - root_mean_squared_error: 61874.4141 - val_loss: 3491472128.0000 - val_root_mean_squared_error: 59088.6797\n",
            "Epoch 75/100\n",
            "1256/1256 [==============================] - 6s 5ms/step - loss: 3829088512.0000 - root_mean_squared_error: 61879.6289 - val_loss: 3490834688.0000 - val_root_mean_squared_error: 59083.2852\n",
            "Epoch 76/100\n",
            "1256/1256 [==============================] - 8s 6ms/step - loss: 3825649664.0000 - root_mean_squared_error: 61851.8359 - val_loss: 3492059904.0000 - val_root_mean_squared_error: 59093.6523\n",
            "Epoch 77/100\n",
            "1256/1256 [==============================] - 6s 5ms/step - loss: 3819022080.0000 - root_mean_squared_error: 61798.2383 - val_loss: 3493166848.0000 - val_root_mean_squared_error: 59103.0195\n",
            "Epoch 78/100\n",
            "1256/1256 [==============================] - 8s 6ms/step - loss: 3826066432.0000 - root_mean_squared_error: 61855.2070 - val_loss: 3495425280.0000 - val_root_mean_squared_error: 59122.1211\n",
            "Epoch 79/100\n",
            "1256/1256 [==============================] - 6s 5ms/step - loss: 3806136064.0000 - root_mean_squared_error: 61693.8906 - val_loss: 3498776064.0000 - val_root_mean_squared_error: 59150.4531\n",
            "Epoch 80/100\n",
            "1256/1256 [==============================] - 8s 6ms/step - loss: 3806584064.0000 - root_mean_squared_error: 61697.5195 - val_loss: 3497294848.0000 - val_root_mean_squared_error: 59137.9297\n",
            "Epoch 81/100\n",
            "1256/1256 [==============================] - 6s 5ms/step - loss: 3804270848.0000 - root_mean_squared_error: 61678.7695 - val_loss: 3499395328.0000 - val_root_mean_squared_error: 59155.6875\n",
            "Epoch 82/100\n",
            "1256/1256 [==============================] - 8s 6ms/step - loss: 3803684608.0000 - root_mean_squared_error: 61674.0195 - val_loss: 3501059840.0000 - val_root_mean_squared_error: 59169.7539\n",
            "Epoch 83/100\n",
            "1256/1256 [==============================] - 6s 5ms/step - loss: 3798426880.0000 - root_mean_squared_error: 61631.3789 - val_loss: 3501347584.0000 - val_root_mean_squared_error: 59172.1875\n",
            "Epoch 84/100\n",
            "1256/1256 [==============================] - 8s 6ms/step - loss: 3802786304.0000 - root_mean_squared_error: 61666.7344 - val_loss: 3507276288.0000 - val_root_mean_squared_error: 59222.2617\n",
            "Epoch 85/100\n",
            "1256/1256 [==============================] - 6s 5ms/step - loss: 3802925824.0000 - root_mean_squared_error: 61667.8672 - val_loss: 3504689664.0000 - val_root_mean_squared_error: 59200.4180\n",
            "Epoch 86/100\n",
            "1256/1256 [==============================] - 8s 6ms/step - loss: 3800812032.0000 - root_mean_squared_error: 61650.7266 - val_loss: 3504540160.0000 - val_root_mean_squared_error: 59199.1562\n",
            "Epoch 87/100\n",
            "1256/1256 [==============================] - 6s 5ms/step - loss: 3787722240.0000 - root_mean_squared_error: 61544.4727 - val_loss: 3505307648.0000 - val_root_mean_squared_error: 59205.6367\n",
            "Epoch 88/100\n",
            "1256/1256 [==============================] - 8s 6ms/step - loss: 3799178752.0000 - root_mean_squared_error: 61637.4766 - val_loss: 3504929280.0000 - val_root_mean_squared_error: 59202.4414\n",
            "Epoch 89/100\n",
            "1256/1256 [==============================] - 6s 5ms/step - loss: 3790247168.0000 - root_mean_squared_error: 61564.9844 - val_loss: 3509132032.0000 - val_root_mean_squared_error: 59237.9258\n",
            "Epoch 90/100\n",
            "1256/1256 [==============================] - 8s 6ms/step - loss: 3778394368.0000 - root_mean_squared_error: 61468.6445 - val_loss: 3509487104.0000 - val_root_mean_squared_error: 59240.9258\n",
            "Epoch 91/100\n",
            "1256/1256 [==============================] - 6s 5ms/step - loss: 3784479488.0000 - root_mean_squared_error: 61518.1250 - val_loss: 3509820160.0000 - val_root_mean_squared_error: 59243.7344\n",
            "Epoch 92/100\n",
            "1256/1256 [==============================] - 8s 6ms/step - loss: 3772611328.0000 - root_mean_squared_error: 61421.5859 - val_loss: 3511643136.0000 - val_root_mean_squared_error: 59259.1172\n",
            "Epoch 93/100\n",
            "1256/1256 [==============================] - 6s 5ms/step - loss: 3771983104.0000 - root_mean_squared_error: 61416.4727 - val_loss: 3513473024.0000 - val_root_mean_squared_error: 59274.5547\n",
            "Epoch 94/100\n",
            "1256/1256 [==============================] - 8s 6ms/step - loss: 3771953152.0000 - root_mean_squared_error: 61416.2305 - val_loss: 3515967744.0000 - val_root_mean_squared_error: 59295.5977\n",
            "Epoch 95/100\n",
            "1256/1256 [==============================] - 6s 5ms/step - loss: 3765767424.0000 - root_mean_squared_error: 61365.8477 - val_loss: 3514928640.0000 - val_root_mean_squared_error: 59286.8320\n",
            "Epoch 96/100\n",
            "1256/1256 [==============================] - 8s 6ms/step - loss: 3769695232.0000 - root_mean_squared_error: 61397.8438 - val_loss: 3516678400.0000 - val_root_mean_squared_error: 59301.5898\n",
            "Epoch 97/100\n",
            "1256/1256 [==============================] - 6s 5ms/step - loss: 3756310528.0000 - root_mean_squared_error: 61288.7461 - val_loss: 3518463488.0000 - val_root_mean_squared_error: 59316.6367\n",
            "Epoch 98/100\n",
            "1256/1256 [==============================] - 7s 6ms/step - loss: 3751451904.0000 - root_mean_squared_error: 61249.0977 - val_loss: 3520863488.0000 - val_root_mean_squared_error: 59336.8633\n",
            "Epoch 99/100\n",
            "1256/1256 [==============================] - 8s 6ms/step - loss: 3758756352.0000 - root_mean_squared_error: 61308.6953 - val_loss: 3519222016.0000 - val_root_mean_squared_error: 59323.0312\n",
            "Epoch 100/100\n",
            "1256/1256 [==============================] - 8s 6ms/step - loss: 3764797696.0000 - root_mean_squared_error: 61357.9492 - val_loss: 3522148096.0000 - val_root_mean_squared_error: 59347.6875\n",
            "1131/1131 [==============================] - 3s 3ms/step\n"
          ]
        }
      ]
    },
    {
      "cell_type": "code",
      "source": [
        "# Ensure all IDs have predictions by creating a DataFrame with all IDs\n",
        "submission = pd.DataFrame({\n",
        "    'id': test_data['id'],\n",
        "    'price': y_test_pred.flatten()\n",
        "})\n",
        "\n",
        "# Save the predictions to a CSV file in the format [id, price]\n",
        "submission.to_csv('/content/ANN_prices.csv', index=False)"
      ],
      "metadata": {
        "id": "wQ7KkvSax-HL"
      },
      "execution_count": 30,
      "outputs": []
    },
    {
      "cell_type": "code",
      "source": [
        "# Since we don't have true price labels for the test set, we'll calculate RMSE on a portion of the training data held out as validation set\n",
        "# Split the training data into a smaller training set and a validation set\n",
        "X_train_split, X_val, y_train_split, y_val = train_test_split(X_train, y_train, test_size=0.2, random_state=42)\n",
        "\n",
        "# Train the best model on the split training data\n",
        "best_model.fit(X_train_split, y_train_split)\n",
        "\n",
        "# Predict on the validation set\n",
        "y_val_pred = best_model.predict(X_val)\n",
        "\n",
        "# Calculate RMSE\n",
        "rmse = np.sqrt(mean_squared_error(y_val, y_val_pred))\n",
        "print(f\"Validation RMSE: {rmse:.2f}\")\n",
        "\n",
        "# Save the predictions to a CSV file in the format [id, price]\n",
        "submission = pd.DataFrame({\n",
        "    'id': test_data['id'],\n",
        "    'price': y_test_pred\n",
        "})\n",
        "submission.to_csv('/content/predicted_prices_Elasticnet.csv', index=False)"
      ],
      "metadata": {
        "colab": {
          "base_uri": "https://localhost:8080/"
        },
        "id": "2xm2Y4f5hTJR",
        "outputId": "2bf9c993-c927-4075-f824-b422a6cbf4ee"
      },
      "execution_count": 21,
      "outputs": [
        {
          "output_type": "stream",
          "name": "stdout",
          "text": [
            "Validation RMSE: 66195.88\n"
          ]
        }
      ]
    },
    {
      "cell_type": "code",
      "source": [
        "print(\"Length of ID column in test_data:\", len(test_data['id']))\n",
        "print(\"Length of predicted prices array:\", len(y_pred))\n"
      ],
      "metadata": {
        "colab": {
          "base_uri": "https://localhost:8080/"
        },
        "id": "7hTZ5jqCuzaE",
        "outputId": "8f0cd14f-f731-45f9-865b-13436e72d632"
      },
      "execution_count": 30,
      "outputs": [
        {
          "output_type": "stream",
          "name": "stdout",
          "text": [
            "Length of ID column in test_data: 36183\n",
            "Length of predicted prices array: 33577\n"
          ]
        }
      ]
    },
    {
      "cell_type": "code",
      "source": [
        "# Feature importance\n",
        "importances = best_model.named_steps['regressor'].feature_importances_\n",
        "feature_names = numeric_features + list(best_model.named_steps['preprocessor'].transformers_[1][1].get_feature_names_out(categorical_features))\n",
        "\n",
        "# Create a DataFrame for visualization\n",
        "feature_importances = pd.DataFrame({'feature': feature_names, 'importance': importances})\n",
        "feature_importances = feature_importances.sort_values('importance', ascending=False)\n",
        "\n",
        "print(feature_importances)"
      ],
      "metadata": {
        "colab": {
          "base_uri": "https://localhost:8080/",
          "height": 228
        },
        "id": "gmX9EV7dzuNa",
        "outputId": "df1e7b95-b617-4f8b-c5c8-fd9726d9da86"
      },
      "execution_count": 19,
      "outputs": [
        {
          "output_type": "error",
          "ename": "AttributeError",
          "evalue": "'ElasticNet' object has no attribute 'feature_importances_'",
          "traceback": [
            "\u001b[0;31m---------------------------------------------------------------------------\u001b[0m",
            "\u001b[0;31mAttributeError\u001b[0m                            Traceback (most recent call last)",
            "\u001b[0;32m<ipython-input-19-94cf18c7c573>\u001b[0m in \u001b[0;36m<cell line: 2>\u001b[0;34m()\u001b[0m\n\u001b[1;32m      1\u001b[0m \u001b[0;31m# Feature importance\u001b[0m\u001b[0;34m\u001b[0m\u001b[0;34m\u001b[0m\u001b[0m\n\u001b[0;32m----> 2\u001b[0;31m \u001b[0mimportances\u001b[0m \u001b[0;34m=\u001b[0m \u001b[0mbest_model\u001b[0m\u001b[0;34m.\u001b[0m\u001b[0mnamed_steps\u001b[0m\u001b[0;34m[\u001b[0m\u001b[0;34m'regressor'\u001b[0m\u001b[0;34m]\u001b[0m\u001b[0;34m.\u001b[0m\u001b[0mfeature_importances_\u001b[0m\u001b[0;34m\u001b[0m\u001b[0;34m\u001b[0m\u001b[0m\n\u001b[0m\u001b[1;32m      3\u001b[0m \u001b[0mfeature_names\u001b[0m \u001b[0;34m=\u001b[0m \u001b[0mnumeric_features\u001b[0m \u001b[0;34m+\u001b[0m \u001b[0mlist\u001b[0m\u001b[0;34m(\u001b[0m\u001b[0mbest_model\u001b[0m\u001b[0;34m.\u001b[0m\u001b[0mnamed_steps\u001b[0m\u001b[0;34m[\u001b[0m\u001b[0;34m'preprocessor'\u001b[0m\u001b[0;34m]\u001b[0m\u001b[0;34m.\u001b[0m\u001b[0mtransformers_\u001b[0m\u001b[0;34m[\u001b[0m\u001b[0;36m1\u001b[0m\u001b[0;34m]\u001b[0m\u001b[0;34m[\u001b[0m\u001b[0;36m1\u001b[0m\u001b[0;34m]\u001b[0m\u001b[0;34m.\u001b[0m\u001b[0mget_feature_names_out\u001b[0m\u001b[0;34m(\u001b[0m\u001b[0mcategorical_features\u001b[0m\u001b[0;34m)\u001b[0m\u001b[0;34m)\u001b[0m\u001b[0;34m\u001b[0m\u001b[0;34m\u001b[0m\u001b[0m\n\u001b[1;32m      4\u001b[0m \u001b[0;34m\u001b[0m\u001b[0m\n\u001b[1;32m      5\u001b[0m \u001b[0;31m# Create a DataFrame for visualization\u001b[0m\u001b[0;34m\u001b[0m\u001b[0;34m\u001b[0m\u001b[0m\n",
            "\u001b[0;31mAttributeError\u001b[0m: 'ElasticNet' object has no attribute 'feature_importances_'"
          ]
        }
      ]
    },
    {
      "cell_type": "code",
      "source": [],
      "metadata": {
        "id": "SDfcRY6hi4CC"
      },
      "execution_count": null,
      "outputs": []
    }
  ]
}